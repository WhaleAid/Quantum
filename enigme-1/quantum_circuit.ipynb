{
 "cells": [
  {
   "cell_type": "code",
   "execution_count": null,
   "id": "28ef3933",
   "metadata": {},
   "outputs": [],
   "source": [
    "from qiskit import *"
   ]
  },
  {
   "cell_type": "code",
   "execution_count": null,
   "id": "d3346dec",
   "metadata": {},
   "outputs": [],
   "source": []
  },
  {
   "cell_type": "code",
   "execution_count": null,
   "id": "867534e5",
   "metadata": {},
   "outputs": [],
   "source": [
    "# Crée un circuit quantique avec 3 qubits et 3 bits classiques"
   ]
  },
  {
   "cell_type": "code",
   "execution_count": null,
   "id": "e3ce4902",
   "metadata": {},
   "outputs": [],
   "source": [
    "qc = QuantumCircuit(3, 3)"
   ]
  },
  {
   "cell_type": "code",
   "execution_count": null,
   "id": "3a367264",
   "metadata": {},
   "outputs": [],
   "source": []
  },
  {
   "cell_type": "code",
   "execution_count": null,
   "id": "8f1384df",
   "metadata": {},
   "outputs": [],
   "source": [
    "# Applique la porte de Hadamard aux premier et troisième qubits"
   ]
  },
  {
   "cell_type": "code",
   "execution_count": null,
   "id": "2e90b066",
   "metadata": {},
   "outputs": [],
   "source": [
    "qc.h([0, 2])"
   ]
  },
  {
   "cell_type": "code",
   "execution_count": null,
   "id": "d5c7af4e",
   "metadata": {},
   "outputs": [],
   "source": []
  },
  {
   "cell_type": "code",
   "execution_count": null,
   "id": "cd2cb95a",
   "metadata": {},
   "outputs": [],
   "source": [
    "# Applique la porte CNOT entre les premier et deuxième qubits"
   ]
  },
  {
   "cell_type": "code",
   "execution_count": null,
   "id": "326d5895",
   "metadata": {},
   "outputs": [],
   "source": [
    "qc.cx(0, 1)"
   ]
  },
  {
   "cell_type": "code",
   "execution_count": null,
   "id": "027f543f",
   "metadata": {},
   "outputs": [],
   "source": []
  },
  {
   "cell_type": "code",
   "execution_count": null,
   "id": "85a62317",
   "metadata": {},
   "outputs": [],
   "source": [
    "# Insère une barrière pour une séparation visuelle des opérations"
   ]
  },
  {
   "cell_type": "code",
   "execution_count": null,
   "id": "c4539cdb",
   "metadata": {},
   "outputs": [],
   "source": [
    "qc.barrier()"
   ]
  },
  {
   "cell_type": "code",
   "execution_count": null,
   "id": "6385feef",
   "metadata": {},
   "outputs": [],
   "source": []
  },
  {
   "cell_type": "code",
   "execution_count": null,
   "id": "a0c91256",
   "metadata": {},
   "outputs": [],
   "source": [
    "# Applique la porte CNOT entre les troisième et deuxième qubits"
   ]
  },
  {
   "cell_type": "code",
   "execution_count": null,
   "id": "0b5c41a7",
   "metadata": {},
   "outputs": [],
   "source": [
    "qc.cx(2, 1)"
   ]
  },
  {
   "cell_type": "code",
   "execution_count": null,
   "id": "fbac159e",
   "metadata": {},
   "outputs": [],
   "source": []
  },
  {
   "cell_type": "code",
   "execution_count": null,
   "id": "22bb3a23",
   "metadata": {},
   "outputs": [],
   "source": [
    "# Applique la porte NOT (porte X) au troisième qubit"
   ]
  },
  {
   "cell_type": "code",
   "execution_count": null,
   "id": "966e8d6b",
   "metadata": {},
   "outputs": [],
   "source": [
    "qc.x(2)"
   ]
  },
  {
   "cell_type": "code",
   "execution_count": null,
   "id": "f3731243",
   "metadata": {},
   "outputs": [],
   "source": []
  },
  {
   "cell_type": "code",
   "execution_count": null,
   "id": "5a78786c",
   "metadata": {},
   "outputs": [],
   "source": [
    "# Applique la porte CNOT entre les troisième et premier qubits"
   ]
  },
  {
   "cell_type": "code",
   "execution_count": null,
   "id": "f886fe61",
   "metadata": {},
   "outputs": [],
   "source": [
    "qc.cx(2, 0)"
   ]
  },
  {
   "cell_type": "code",
   "execution_count": null,
   "id": "19819d7d",
   "metadata": {},
   "outputs": [],
   "source": []
  },
  {
   "cell_type": "code",
   "execution_count": null,
   "id": "b4ae624f",
   "metadata": {},
   "outputs": [],
   "source": [
    "# Applique à nouveau la porte NOT (porte X) au troisième qubit"
   ]
  },
  {
   "cell_type": "code",
   "execution_count": null,
   "id": "f5f11328",
   "metadata": {},
   "outputs": [],
   "source": [
    "qc.x(2)"
   ]
  },
  {
   "cell_type": "code",
   "execution_count": null,
   "id": "35ec3c5c",
   "metadata": {},
   "outputs": [],
   "source": []
  },
  {
   "cell_type": "code",
   "execution_count": null,
   "id": "122a4022",
   "metadata": {},
   "outputs": [],
   "source": [
    "# Insère une autre barrière"
   ]
  },
  {
   "cell_type": "code",
   "execution_count": null,
   "id": "6c1792f4",
   "metadata": {},
   "outputs": [],
   "source": [
    "qc.barrier()"
   ]
  },
  {
   "cell_type": "code",
   "execution_count": null,
   "id": "fe5a87e6",
   "metadata": {},
   "outputs": [],
   "source": []
  },
  {
   "cell_type": "code",
   "execution_count": null,
   "id": "b7515c56",
   "metadata": {},
   "outputs": [],
   "source": [
    "# Réalise une opération SWAP entre les premier et deuxième qubits"
   ]
  },
  {
   "cell_type": "code",
   "execution_count": null,
   "id": "2b1fba8f",
   "metadata": {},
   "outputs": [],
   "source": [
    "qc.swap(0, 1)"
   ]
  },
  {
   "cell_type": "code",
   "execution_count": null,
   "id": "f4864b5b",
   "metadata": {},
   "outputs": [],
   "source": []
  },
  {
   "cell_type": "code",
   "execution_count": null,
   "id": "64734917",
   "metadata": {},
   "outputs": [],
   "source": [
    "# Applique la porte NOT (porte X) au deuxième qubit"
   ]
  },
  {
   "cell_type": "code",
   "execution_count": null,
   "id": "14295ec3",
   "metadata": {},
   "outputs": [],
   "source": [
    "qc.x(1)"
   ]
  },
  {
   "cell_type": "code",
   "execution_count": null,
   "id": "9f518503",
   "metadata": {},
   "outputs": [],
   "source": []
  },
  {
   "cell_type": "code",
   "execution_count": null,
   "id": "d830c75f",
   "metadata": {},
   "outputs": [],
   "source": [
    "# Applique la porte CNOT entre les troisième et deuxième qubits"
   ]
  },
  {
   "cell_type": "code",
   "execution_count": null,
   "id": "814c45e2",
   "metadata": {},
   "outputs": [],
   "source": [
    "qc.cx(2, 1)"
   ]
  },
  {
   "cell_type": "code",
   "execution_count": null,
   "id": "9d382858",
   "metadata": {},
   "outputs": [],
   "source": []
  },
  {
   "cell_type": "code",
   "execution_count": null,
   "id": "f68651ff",
   "metadata": {},
   "outputs": [],
   "source": [
    "# Applique la porte NOT (porte X) aux premier, deuxième et troisième qubits"
   ]
  },
  {
   "cell_type": "code",
   "execution_count": null,
   "id": "fddc9dd1",
   "metadata": {},
   "outputs": [],
   "source": [
    "qc.x([0, 1, 2])"
   ]
  },
  {
   "cell_type": "code",
   "execution_count": null,
   "id": "616f494e",
   "metadata": {},
   "outputs": [],
   "source": []
  },
  {
   "cell_type": "code",
   "execution_count": null,
   "id": "cabdd24c",
   "metadata": {},
   "outputs": [],
   "source": [
    "# Applique la porte CNOT entre les troisième et premier qubits"
   ]
  },
  {
   "cell_type": "code",
   "execution_count": null,
   "id": "93988a0c",
   "metadata": {},
   "outputs": [],
   "source": [
    "qc.cx(2, 0)"
   ]
  },
  {
   "cell_type": "code",
   "execution_count": null,
   "id": "8746f589",
   "metadata": {},
   "outputs": [],
   "source": []
  },
  {
   "cell_type": "code",
   "execution_count": null,
   "id": "22abc074",
   "metadata": {},
   "outputs": [],
   "source": [
    "# Applique la porte NOT (porte X) au troisième qubit"
   ]
  },
  {
   "cell_type": "code",
   "execution_count": null,
   "id": "13688f76",
   "metadata": {},
   "outputs": [],
   "source": [
    "qc.x(2)"
   ]
  },
  {
   "cell_type": "code",
   "execution_count": null,
   "id": "827aac95",
   "metadata": {},
   "outputs": [],
   "source": []
  },
  {
   "cell_type": "code",
   "execution_count": null,
   "id": "0af5f11a",
   "metadata": {},
   "outputs": [],
   "source": [
    "# Mesure tous les trois qubits et stocke les résultats dans les bits classiques correspondants"
   ]
  },
  {
   "cell_type": "code",
   "execution_count": null,
   "id": "664df7fc",
   "metadata": {},
   "outputs": [],
   "source": [
    "qc.measure([0, 1, 2], [0, 1, 2])"
   ]
  },
  {
   "cell_type": "code",
   "execution_count": null,
   "id": "827255ac",
   "metadata": {},
   "outputs": [],
   "source": []
  },
  {
   "cell_type": "code",
   "execution_count": null,
   "id": "6a476cc2",
   "metadata": {},
   "outputs": [],
   "source": [
    "# Affiche le circuit quantique"
   ]
  },
  {
   "cell_type": "code",
   "execution_count": null,
   "id": "5212bdc5",
   "metadata": {},
   "outputs": [],
   "source": [
    "qc.draw()"
   ]
  }
 ],
 "metadata": {},
 "nbformat": 4,
 "nbformat_minor": 5
}
